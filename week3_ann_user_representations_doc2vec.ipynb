{
  "cells": [
    {
      "cell_type": "markdown",
      "metadata": {
        "id": "view-in-github",
        "colab_type": "text"
      },
      "source": [
        "<a href=\"https://colab.research.google.com/github/srujanreddyj/recommendation_systems_corise/blob/main/week3_ann_user_representations_doc2vec.ipynb\" target=\"_parent\"><img src=\"https://colab.research.google.com/assets/colab-badge.svg\" alt=\"Open In Colab\"/></a>"
      ]
    },
    {
      "cell_type": "code",
      "execution_count": 32,
      "id": "a424b415-b8ef-47b3-84ee-7c40332e01ef",
      "metadata": {
        "colab": {
          "base_uri": "https://localhost:8080/"
        },
        "id": "a424b415-b8ef-47b3-84ee-7c40332e01ef",
        "outputId": "7c79d674-1724-4aa1-b325-2f7c5cb96235"
      },
      "outputs": [
        {
          "output_type": "stream",
          "name": "stdout",
          "text": [
            "Looking in indexes: https://pypi.org/simple, https://us-python.pkg.dev/colab-wheels/public/simple/\n",
            "Requirement already satisfied: faiss-cpu in /usr/local/lib/python3.7/dist-packages (1.7.2)\n"
          ]
        }
      ],
      "source": [
        "!pip install faiss-cpu --no-cache"
      ]
    },
    {
      "cell_type": "code",
      "execution_count": 33,
      "id": "837dcaa9-cc0b-4345-bbee-3a09683decf9",
      "metadata": {
        "id": "837dcaa9-cc0b-4345-bbee-3a09683decf9"
      },
      "outputs": [],
      "source": [
        "import pickle\n",
        "import faiss\n",
        "import numpy as np\n",
        "from decimal import Decimal\n",
        "from statistics import mean"
      ]
    },
    {
      "cell_type": "markdown",
      "id": "41f1f7cb-9441-4fe1-962e-9e4cb3e3c192",
      "metadata": {
        "id": "41f1f7cb-9441-4fe1-962e-9e4cb3e3c192"
      },
      "source": [
        "# **Welcome to week 3 project!**\n",
        "\n",
        "Congratulations on making it to week 3! 👏 In the first week of this course, we covered the basics of how to design personalized recommendation systems. We then provided some system design examples for large scale recommenders from corporations like Spotify and YouTube, as well as techniques for candidate generation, specifically the two-tower model being used at Twitter and Pinterest.\n",
        "\n",
        "Last week, we covered details of ML approaches for recommendations: including multi-task recommenders and contextual bandits.\n",
        "\n",
        "In week 3, we covered various techniques for learning user representations.\n",
        "\n",
        "In this week's project, we will touch upon two key aspects related to representations:\n",
        "1. How do we query large amount of vectors in efficient time.\n",
        "2. How can we infer various user representations and see what their impact is on downstream task.\n",
        "\n",
        "Lets begin with Part A, which tells us how we could handle a large number of candidate items or user representations in an efficient manner. \n"
      ]
    },
    {
      "cell_type": "markdown",
      "id": "d0e01328-6834-4b11-85c1-03867e1d4860",
      "metadata": {
        "id": "d0e01328-6834-4b11-85c1-03867e1d4860"
      },
      "source": [
        "# Part A: Approximate nearest neighbor search\n",
        "\n",
        "Often we are interested in finding nearest neighbors in a large space of vectors. To store embeddings for 400 million users and over 100 million items and querying them in real time is a challenging task. This is where approximate nearest neighbor approaches step in to help. Annoy, Faiss, ScaNN are typical libraries that are used for efficient vector similarity search at scale. They implement algorithms that search in sets of vectors of any size, up to ones that possibly do not fit in RAM.\n",
        "\n",
        "In the first part of this week's project, we will simulate embeddings of 1 million items and try to find k-nearest neighbours for an item of interest. We will implement a vanilla search function to fetch the top-k nearest neighbors and estimate the time it takes for us to do so. We will then compare this with FAISS -- Facebook's nearest neighbour search library, and compare the time it takes for us to get nearest neighbours from FAISS versus our own implementation."
      ]
    },
    {
      "cell_type": "markdown",
      "id": "3fa2b438-be53-4f39-b990-859046a4a560",
      "metadata": {
        "id": "3fa2b438-be53-4f39-b990-859046a4a560"
      },
      "source": [
        "Lets first generate a simulated dataset of embeddings of 1 million items."
      ]
    },
    {
      "cell_type": "code",
      "execution_count": 34,
      "id": "8c36fc8b-a032-4b48-bbeb-3bff46624615",
      "metadata": {
        "id": "8c36fc8b-a032-4b48-bbeb-3bff46624615"
      },
      "outputs": [],
      "source": [
        "d = 64                           # dimension\n",
        "nb = 1000000                     # database size\n",
        "nq = 10000                       # nb of queries\n",
        "np.random.seed(1234)             # make reproducible\n",
        "xb = np.random.random((nb, d)).astype('float32')\n",
        "xq = np.random.random((nq, d)).astype('float32')"
      ]
    },
    {
      "cell_type": "markdown",
      "id": "142c00a5-f36b-4a5f-9e27-4a3e38b467d7",
      "metadata": {
        "id": "142c00a5-f36b-4a5f-9e27-4a3e38b467d7"
      },
      "source": [
        "Now that we have these items, lets take up the goal of finding the top-5 items closest to this specific item. Your goal is to implement your function to estimate the top-5 items and print the average distance of these top 5 items to the query item."
      ]
    },
    {
      "cell_type": "code",
      "execution_count": 35,
      "id": "SFNpMQr5DdfJ",
      "metadata": {
        "colab": {
          "base_uri": "https://localhost:8080/"
        },
        "id": "SFNpMQr5DdfJ",
        "outputId": "502394c3-c237-4860-b313-4905a9ebc3ff"
      },
      "outputs": [
        {
          "output_type": "execute_result",
          "data": {
            "text/plain": [
              "2.883389472961426"
            ]
          },
          "metadata": {},
          "execution_count": 35
        }
      ],
      "source": [
        "from scipy.spatial import distance\n",
        "a = xb[1]\n",
        "b = xq[1]\n",
        "dst = distance.euclidean(a, b)\n",
        "dst"
      ]
    },
    {
      "cell_type": "code",
      "execution_count": 36,
      "id": "b2dd70b9-8d2c-4134-b866-ab09af43a47d",
      "metadata": {
        "colab": {
          "base_uri": "https://localhost:8080/"
        },
        "id": "b2dd70b9-8d2c-4134-b866-ab09af43a47d",
        "outputId": "9317a4a4-de42-4c7e-8cf0-b0ad348a462e"
      },
      "outputs": [
        {
          "output_type": "execute_result",
          "data": {
            "text/plain": [
              "array([[0.20845878, 0.845129  , 0.20550448, 0.94734293, 0.10274749,\n",
              "        0.6191617 , 0.77583075, 0.09261925, 0.3274397 , 0.85938   ,\n",
              "        0.924096  , 0.12895997, 0.7560429 , 0.42820475, 0.11612509,\n",
              "        0.25218487, 0.4510368 , 0.1614575 , 0.47467363, 0.73306215,\n",
              "        0.27797878, 0.55596507, 0.51724535, 0.38300654, 0.84059364,\n",
              "        0.39062163, 0.03605831, 0.36499304, 0.00245236, 0.8184168 ,\n",
              "        0.6431442 , 0.8211902 , 0.803947  , 0.64254075, 0.8942377 ,\n",
              "        0.3960015 , 0.02801774, 0.33350977, 0.67217875, 0.08496645,\n",
              "        0.9040858 , 0.16209054, 0.18217625, 0.45620543, 0.81709796,\n",
              "        0.9457996 , 0.9014344 , 0.07520456, 0.27958974, 0.13733523,\n",
              "        0.07986983, 0.50559473, 0.04614276, 0.5802821 , 0.18445462,\n",
              "        0.4851945 , 0.30126095, 0.6018374 , 0.9324023 , 0.02708857,\n",
              "        0.5009265 , 0.81868106, 0.5303546 , 0.98523957]], dtype=float32)"
            ]
          },
          "metadata": {},
          "execution_count": 36
        }
      ],
      "source": [
        "k=4\n",
        "query_vector = xq[2:3]\n",
        "query_vector"
      ]
    },
    {
      "cell_type": "code",
      "execution_count": 43,
      "id": "84a94ee2-3131-44c5-ba95-ec67aa675048",
      "metadata": {
        "id": "84a94ee2-3131-44c5-ba95-ec67aa675048"
      },
      "outputs": [],
      "source": [
        "def find_top_k_nn(query_vector, item_vector, k):\n",
        "    \"\"\"\n",
        "    in this function, implement your definition of top-k nearest neighbours, and return the distances\n",
        "    and indices of the these top-k items.\n",
        "    \"\"\"\n",
        "\n",
        "    # top_k_pairs_xq = []\n",
        "    # for i in range(len(query_vector)):\n",
        "    #   dist = []\n",
        "    #   for j in range(len(item_vector)):\n",
        "    #     dist_j = distance.euclidean(item_vector[j], query_vector[i])\n",
        "    #     dist.append(dist_j)\n",
        "\n",
        "    query_dist =  item_vector - query_vector\n",
        "    dist = np.linalg.norm(query_dist, axis=-1) ** 2\n",
        "    #get k closest  elements\n",
        "    top_k_inds = np.argpartition(dist, k)[:k]\n",
        "    top_k_dis = [dist[z] for z in top_k_inds]\n",
        "\n",
        "    \n",
        "    return top_k_dis, top_k_inds "
      ]
    },
    {
      "cell_type": "code",
      "execution_count": 44,
      "id": "XasEc7P7TnIK",
      "metadata": {
        "colab": {
          "base_uri": "https://localhost:8080/"
        },
        "id": "XasEc7P7TnIK",
        "outputId": "3f05169e-553c-4392-933c-63899f1a2e51"
      },
      "outputs": [
        {
          "output_type": "stream",
          "name": "stdout",
          "text": [
            "CPU times: user 232 ms, sys: 9.54 ms, total: 242 ms\n",
            "Wall time: 433 ms\n"
          ]
        },
        {
          "output_type": "execute_result",
          "data": {
            "text/plain": [
              "([4.7423596, 5.0559897, 5.061423, 5.103091, 5.119121],\n",
              " array([934893, 201968, 529281, 836119, 808216]))"
            ]
          },
          "metadata": {},
          "execution_count": 44
        }
      ],
      "source": [
        "%%time\n",
        "find_top_k_nn(query_vector, xb, 5)"
      ]
    },
    {
      "cell_type": "code",
      "source": [
        "# %%time\n",
        "\n",
        "results = pd.DataFrame()\n",
        "\n",
        "D, I = find_top_k_nn(query_vector, xb, 5)\n",
        "\n",
        "print(\"distances from the k nearest neighbor fetched:\",D)\n",
        "print(\"indices from the k nearest neighbor fetched:\",I)\n",
        "print(\"average distance of the k- nearest neighbors fetched: \",np.mean(D))\n",
        "\n"
      ],
      "metadata": {
        "colab": {
          "base_uri": "https://localhost:8080/"
        },
        "id": "eBn0lcHvEAW6",
        "outputId": "1e416e95-edc2-4fe5-e22a-475e7f85dc28"
      },
      "id": "eBn0lcHvEAW6",
      "execution_count": 47,
      "outputs": [
        {
          "output_type": "stream",
          "name": "stdout",
          "text": [
            "distances from the k nearest neighbor fetched: [4.7423596, 5.0559897, 5.061423, 5.103091, 5.119121]\n",
            "indices from the k nearest neighbor fetched: [934893 201968 529281 836119 808216]\n",
            "average distance of the k- nearest neighbors fetched:  5.0163965\n"
          ]
        }
      ]
    },
    {
      "cell_type": "markdown",
      "id": "b8a895ce-4f0b-41a5-8243-90f18bff8d7b",
      "metadata": {
        "id": "b8a895ce-4f0b-41a5-8243-90f18bff8d7b"
      },
      "source": [
        "With your top-k NN function implemented, call this function to get the top-k nearest neighbor items for the query_vector and print the average distance. Also, print the time it takes to run this function:"
      ]
    },
    {
      "cell_type": "markdown",
      "id": "bd4452f5-ce17-43df-95f2-e9b58e8cad5e",
      "metadata": {
        "id": "bd4452f5-ce17-43df-95f2-e9b58e8cad5e"
      },
      "source": [
        "Now lets switch to using Faiss https://github.com/facebookresearch/faiss\n",
        "\n",
        "Faiss is a library for efficient similarity search and clustering of dense vectors. It contains algorithms that search in sets of vectors of any size, up to ones that possibly do not fit in RAM. "
      ]
    },
    {
      "cell_type": "markdown",
      "id": "b6427be9-53b2-446c-851b-b2f6b7db9fa6",
      "metadata": {
        "id": "b6427be9-53b2-446c-851b-b2f6b7db9fa6"
      },
      "source": [
        "### Similarity search in Faiss\n",
        "\n",
        "Given a set of vectors x_i in dimension d, Faiss builds a data structure in RAM. After the structure is constructed, when given a new vector x in dimension d it performs efficiently the operation:\n",
        "\n",
        "$i = argmin_i ||x - x_i||$\n",
        "\n",
        "where ||.|| is the Euclidean distance (L2).\n",
        "\n",
        "In Faiss terms, the data structure is an index, an object that has an add method to add x_i vectors. Note that the x_i's are assumed to be fixed. Computing the argmin is the search operation on the index.\n",
        "\n",
        "### Indexes used by Faiss\n",
        "\n",
        "1. The inverted file from “Video google: A text retrieval approach to object matching in videos.”, Sivic & Zisserman, ICCV 2003. This is the key to non-exhaustive search in large datasets. Otherwise all searches would need to scan all elements in the index, which is prohibitive even if the operation to apply for each element is fast\n",
        "\n",
        "\n",
        "2. The product quantization (PQ) method from “Product quantization for nearest neighbor search”, Jégou & al., PAMI 2011. This can be seen as a lossy compression technique for high-dimensional vectors, that allows relatively accurate reconstructions and distance computations in the compressed domain.\n",
        "\n",
        "\n",
        "3. The three-level quantization (IVFADC-R aka IndexIVFPQR) method from \"Searching in one billion vectors: re-rank with source coding\", Tavenard & al., ICASSP'11."
      ]
    },
    {
      "cell_type": "markdown",
      "id": "3e63810d-fd22-49ca-b4bd-423ebf348c5f",
      "metadata": {
        "id": "3e63810d-fd22-49ca-b4bd-423ebf348c5f"
      },
      "source": [
        "We will implement these three indexes from faiss and use each of these three to search the index, and get the top-k nearest neighbour vectors, and estimate the average distance.\n",
        "\n",
        "Lets first construct the three indexes: index1, index2, index3 based on Flat index, Inverted index and product quantization techniques:"
      ]
    },
    {
      "cell_type": "code",
      "execution_count": 48,
      "id": "76487ec4-a020-4ccd-aa33-f6ef25869048",
      "metadata": {
        "colab": {
          "base_uri": "https://localhost:8080/"
        },
        "id": "76487ec4-a020-4ccd-aa33-f6ef25869048",
        "outputId": "e84791ae-1fcb-435a-caf5-f581ebfe4a74"
      },
      "outputs": [
        {
          "output_type": "stream",
          "name": "stdout",
          "text": [
            "total number of vectors indexed =  1000000\n",
            "CPU times: user 98.5 ms, sys: 0 ns, total: 98.5 ms\n",
            "Wall time: 101 ms\n"
          ]
        }
      ],
      "source": [
        "%%time\n",
        "index1 = faiss.IndexFlatL2(d)   # build the index\n",
        "index1.add(xb)                  # add vectors to the index\n",
        "print(\"total number of vectors indexed = \",index1.ntotal)"
      ]
    },
    {
      "cell_type": "code",
      "execution_count": 49,
      "id": "55447035-57e2-4938-837b-9bf20bf66ff6",
      "metadata": {
        "colab": {
          "base_uri": "https://localhost:8080/"
        },
        "id": "55447035-57e2-4938-837b-9bf20bf66ff6",
        "outputId": "12b101be-3379-4b20-e85e-ac7e2ec2c532"
      },
      "outputs": [
        {
          "output_type": "stream",
          "name": "stdout",
          "text": [
            "total number of vectors indexed =  1000000\n",
            "CPU times: user 2.26 s, sys: 163 ms, total: 2.42 s\n",
            "Wall time: 1.31 s\n"
          ]
        }
      ],
      "source": [
        "%%time\n",
        "nlist = 100\n",
        "quantizer = faiss.IndexFlatL2(d)  # the other index\n",
        "index2 = faiss.IndexIVFFlat(quantizer, d, nlist, faiss.METRIC_L2)\n",
        "index2.train(xb)\n",
        "index2.add(xb)\n",
        "print(\"total number of vectors indexed = \",index2.ntotal)"
      ]
    },
    {
      "cell_type": "code",
      "execution_count": 50,
      "id": "f04ebe3c-705d-49b2-aa7b-3602c111c754",
      "metadata": {
        "colab": {
          "base_uri": "https://localhost:8080/"
        },
        "id": "f04ebe3c-705d-49b2-aa7b-3602c111c754",
        "outputId": "8cfe2c7b-6419-4bc2-e145-0a8587889c17"
      },
      "outputs": [
        {
          "output_type": "stream",
          "name": "stdout",
          "text": [
            "total number of vectors indexed =  1000000\n",
            "CPU times: user 46.4 s, sys: 98.5 ms, total: 46.5 s\n",
            "Wall time: 24.5 s\n"
          ]
        }
      ],
      "source": [
        "%%time\n",
        "nlist = 100\n",
        "m = 8\n",
        "k = 4\n",
        "quantizer = faiss.IndexFlatL2(d)  # this remains the same\n",
        "index3 = faiss.IndexIVFPQ(quantizer, d, nlist, m, 8)\n",
        "                                  # 8 specifies that each sub-vector is encoded as 8 bits\n",
        "index3.train(xb)\n",
        "index3.add(xb)\n",
        "print(\"total number of vectors indexed = \",index3.ntotal)"
      ]
    },
    {
      "cell_type": "markdown",
      "id": "047a6682-f771-4672-8998-307f4cfad5f5",
      "metadata": {
        "id": "047a6682-f771-4672-8998-307f4cfad5f5"
      },
      "source": [
        "Now that we have these three indexes, let us query these to fetch the top-k nearest neghbour for our query_vector and compute the average distance we obtain for each.\n",
        "\n",
        "We will also time these commands, to find out the trade-off between accuracy and latency."
      ]
    },
    {
      "cell_type": "code",
      "execution_count": 51,
      "id": "2e54dc7d-5d15-47b2-85e4-c583f92d52a8",
      "metadata": {
        "colab": {
          "base_uri": "https://localhost:8080/"
        },
        "id": "2e54dc7d-5d15-47b2-85e4-c583f92d52a8",
        "outputId": "f6380a78-14a3-4131-cafc-01984008fffd"
      },
      "outputs": [
        {
          "output_type": "stream",
          "name": "stdout",
          "text": [
            "distances from the k nearest neighbor fetched: [[4.742359  5.055989  5.0614223 5.1030912]]\n",
            "indices from the k nearest neighbor fetched: [[934893 201968 529281 836119]]\n",
            "average distance of the k- nearest neighbors fetched:  4.990715\n",
            "CPU times: user 115 ms, sys: 0 ns, total: 115 ms\n",
            "Wall time: 120 ms\n"
          ]
        }
      ],
      "source": [
        "%%time\n",
        "D, I = index1.search(query_vector, k)\n",
        "print(\"distances from the k nearest neighbor fetched:\", D)\n",
        "print(\"indices from the k nearest neighbor fetched:\", I)\n",
        "print(\"average distance of the k- nearest neighbors fetched: \", D.mean())"
      ]
    },
    {
      "cell_type": "code",
      "execution_count": 52,
      "id": "be8f1b17-6108-41fd-814c-caa996fb731d",
      "metadata": {
        "colab": {
          "base_uri": "https://localhost:8080/"
        },
        "id": "be8f1b17-6108-41fd-814c-caa996fb731d",
        "outputId": "cb04ae80-9ac5-4733-fdd5-8113a1ca9ed9"
      },
      "outputs": [
        {
          "output_type": "stream",
          "name": "stdout",
          "text": [
            "distances from the k nearest neighbor fetched: [[5.1839685 5.4732704 5.579998  5.5801306]]\n",
            "indices from the k nearest neighbor fetched: [[ 95006 255141 567851 445550]]\n",
            "average distance of the k- nearest neighbors fetched:  5.454342\n",
            "CPU times: user 4.24 ms, sys: 61 µs, total: 4.3 ms\n",
            "Wall time: 9.41 ms\n"
          ]
        }
      ],
      "source": [
        "%%time\n",
        "D, I = index2.search(query_vector, k)\n",
        "print(\"distances from the k nearest neighbor fetched:\", D)\n",
        "print(\"indices from the k nearest neighbor fetched:\", I)\n",
        "print(\"average distance of the k- nearest neighbors fetched: \", D.mean())"
      ]
    },
    {
      "cell_type": "code",
      "execution_count": 53,
      "id": "2b230291-517c-49c5-a634-f9d4d331e241",
      "metadata": {
        "colab": {
          "base_uri": "https://localhost:8080/"
        },
        "id": "2b230291-517c-49c5-a634-f9d4d331e241",
        "outputId": "dee7a607-4f7e-4a4b-cdf0-9d7a4ef86850"
      },
      "outputs": [
        {
          "output_type": "stream",
          "name": "stdout",
          "text": [
            "distances from the k nearest neighbor fetched: [[4.8449755 4.938947  4.9456244 5.156204 ]]\n",
            "indices from the k nearest neighbor fetched: [[498344 751562 118396  95006]]\n",
            "average distance of the k- nearest neighbors fetched:  4.9714375\n",
            "CPU times: user 1.11 ms, sys: 10 µs, total: 1.12 ms\n",
            "Wall time: 1.41 ms\n"
          ]
        }
      ],
      "source": [
        "%%time\n",
        "D, I = index3.search(query_vector, k)\n",
        "print(\"distances from the k nearest neighbor fetched:\", D)\n",
        "print(\"indices from the k nearest neighbor fetched:\", I)\n",
        "print(\"average distance of the k- nearest neighbors fetched: \", D.mean())"
      ]
    },
    {
      "cell_type": "markdown",
      "id": "c2c902e3-c9bf-408e-9052-11af5a3b069f",
      "metadata": {
        "id": "c2c902e3-c9bf-408e-9052-11af5a3b069f"
      },
      "source": [
        "Running all these, we observe that the product quantization based index is an order of magnitude faster than the inverted index. In terms of accuracy, if we assume that the lower the distance the more accurate the result, FlatIndex gives us the least distance."
      ]
    },
    {
      "cell_type": "markdown",
      "id": "044a818f-19ab-4c26-8532-922c9aa1d673",
      "metadata": {
        "id": "044a818f-19ab-4c26-8532-922c9aa1d673"
      },
      "source": [
        "### Goal 1 for this week: Implement your k-NN function and time it\n",
        "\n",
        "The main goal for this part of the project is to implement your vanilla nearest neighbor function and fetch the closest k nearest neighbours to the query vector. Important to note that your implementation will give an exact result, i.e., your implementation will find the exact closest k vectors that will give the minimum distance to the query_vector.\n",
        "\n",
        "Please compile the results in a table, and compare the average distance obtained and the time it took to query the 1 million vectors. A nice 2D plot would also give you a good idea of the speed-accuracy trade-off involved."
      ]
    },
    {
      "cell_type": "markdown",
      "source": [
        ""
      ],
      "metadata": {
        "id": "c9ztJcviZA7u"
      },
      "id": "c9ztJcviZA7u"
    },
    {
      "cell_type": "code",
      "source": [
        "import pandas as pd\n",
        "import seaborn as sns\n",
        "\n",
        "data = {\n",
        "    'Method': ['Vanilla Knn Linear Scan', 'FAISS Linear Scan', 'FAISS IVF', 'FAISS IVF + PQ'],\n",
        "    'Average distances': [5.0163965, 4.990715, 5.454342, 4.9714375],\n",
        "    'Total CPU time (ms)': [433, 120, 9.41, 1.41]\n",
        "}\n",
        "data_df = pd.DataFrame(data)\n"
      ],
      "metadata": {
        "id": "2uKza52RZBVM"
      },
      "id": "2uKza52RZBVM",
      "execution_count": 56,
      "outputs": []
    },
    {
      "cell_type": "code",
      "source": [
        "import seaborn as sns\n",
        "plt = sns.scatterplot(data=data_df, \n",
        "                x=\"Average distances\", \n",
        "                y=\"Total CPU time (ms)\", \n",
        "                hue=\"Method\",\n",
        "                s=200)\n",
        "\n",
        "plt.set(xlabel =\"Closest NN Distance to Query Vector\", ylabel = \"Wall-Time\", title ='Comparision between various Scans')"
      ],
      "metadata": {
        "colab": {
          "base_uri": "https://localhost:8080/",
          "height": 349
        },
        "id": "Q5lNiqAEcgW1",
        "outputId": "e8ba6362-a6f7-465c-95e8-29cdb1eeeb19"
      },
      "id": "Q5lNiqAEcgW1",
      "execution_count": 64,
      "outputs": [
        {
          "output_type": "execute_result",
          "data": {
            "text/plain": [
              "[Text(0, 0.5, 'Wall-Time'),\n",
              " Text(0.5, 0, 'Closest NN Distance to Query Vector'),\n",
              " Text(0.5, 1.0, 'Comparision between various Scans')]"
            ]
          },
          "metadata": {},
          "execution_count": 64
        },
        {
          "output_type": "display_data",
          "data": {
            "text/plain": [
              "<Figure size 432x288 with 1 Axes>"
            ],
            "image/png": "[encoded data removed]"
          },
          "metadata": {
            "needs_background": "light"
          }
        }
      ]
    },
    {
      "cell_type": "markdown",
      "id": "e127987e-44f9-43b3-9219-1036edd0d14c",
      "metadata": {
        "id": "e127987e-44f9-43b3-9219-1036edd0d14c"
      },
      "source": [
        "# Part B: User representations"
      ]
    },
    {
      "cell_type": "markdown",
      "id": "13c18e33-3a62-4afe-95af-9d33ef87917c",
      "metadata": {
        "id": "13c18e33-3a62-4afe-95af-9d33ef87917c"
      },
      "source": [
        "In the second part of this week's project, we wish to understand few ways of estimating user representations, and how it impacts the performance of downstream tasks.\n",
        "\n",
        "To this end, we will work on top of our H&M dataset, and develop a few different ways of representing users.\n",
        "\n",
        "The broader framework here will be -- we fix the article representations, and fix the downstream task, and then vary the user representations and see how the performance of the downstream task changes based on different user representation techniques.\n"
      ]
    },
    {
      "cell_type": "code",
      "execution_count": null,
      "id": "dd824205-1569-4b54-8c48-fda93a59053d",
      "metadata": {
        "colab": {
          "base_uri": "https://localhost:8080/"
        },
        "execution": {
          "iopub.execute_input": "2022-07-31T23:41:00.984077Z",
          "iopub.status.busy": "2022-07-31T23:41:00.983714Z",
          "iopub.status.idle": "2022-07-31T23:41:05.884227Z",
          "shell.execute_reply": "2022-07-31T23:41:05.882987Z",
          "shell.execute_reply.started": "2022-07-31T23:41:00.984053Z"
        },
        "id": "dd824205-1569-4b54-8c48-fda93a59053d",
        "outputId": "1026a0c4-b189-4cd5-8a25-a8e60c06eb5d",
        "scrolled": true
      },
      "outputs": [
        {
          "name": "stdout",
          "output_type": "stream",
          "text": [
            "Requirement already satisfied: lightgbm in /usr/local/lib/python3.9/dist-packages (3.3.2)\n",
            "Requirement already satisfied: wheel in /usr/local/lib/python3.9/dist-packages (from lightgbm) (0.35.1)\n",
            "Requirement already satisfied: numpy in /usr/local/lib/python3.9/dist-packages (from lightgbm) (1.23.1)\n",
            "Requirement already satisfied: scikit-learn!=0.22.0 in /usr/local/lib/python3.9/dist-packages (from lightgbm) (1.1.1)\n",
            "Requirement already satisfied: scipy in /usr/local/lib/python3.9/dist-packages (from lightgbm) (1.8.1)\n",
            "Requirement already satisfied: threadpoolctl>=2.0.0 in /usr/local/lib/python3.9/dist-packages (from scikit-learn!=0.22.0->lightgbm) (3.1.0)\n",
            "Requirement already satisfied: joblib>=1.0.0 in /usr/local/lib/python3.9/dist-packages (from scikit-learn!=0.22.0->lightgbm) (1.1.0)\n",
            "\u001b[33mWARNING: Running pip as the 'root' user can result in broken permissions and conflicting behaviour with the system package manager. It is recommended to use a virtual environment instead: https://pip.pypa.io/warnings/venv\u001b[0m\u001b[33m\n",
            "\u001b[0m"
          ]
        }
      ],
      "source": [
        "!pip install lightgbm"
      ]
    },
    {
      "cell_type": "code",
      "execution_count": null,
      "id": "251abdd1-1cd4-41f9-af70-23d22a1aa455",
      "metadata": {
        "execution": {
          "iopub.execute_input": "2022-07-31T23:41:05.886628Z",
          "iopub.status.busy": "2022-07-31T23:41:05.886327Z",
          "iopub.status.idle": "2022-07-31T23:41:09.099494Z",
          "shell.execute_reply": "2022-07-31T23:41:09.098087Z",
          "shell.execute_reply.started": "2022-07-31T23:41:05.886599Z"
        },
        "id": "251abdd1-1cd4-41f9-af70-23d22a1aa455"
      },
      "outputs": [],
      "source": [
        "import numpy as np # linear algebra\n",
        "import pandas as pd # data processing, CSV file I/O (e.g. pd.read_csv)\n",
        "import random\n",
        "import gc\n",
        "from sklearn.model_selection import train_test_split\n",
        "from sklearn.model_selection import StratifiedKFold\n",
        "from sklearn.model_selection import GroupShuffleSplit\n",
        "from sklearn.model_selection import GroupKFold\n",
        "from sklearn.preprocessing import LabelEncoder\n",
        "\n",
        "from sklearn.feature_extraction.text import TfidfVectorizer\n",
        "from sklearn.decomposition import TruncatedSVD\n",
        "import lightgbm as lgb\n",
        "import datetime\n",
        "import itertools\n",
        "import os\n",
        "from contextlib import redirect_stdout\n",
        "from tqdm.notebook import tqdm"
      ]
    },
    {
      "cell_type": "markdown",
      "id": "219f3784-220e-4889-ae88-09c80f556479",
      "metadata": {
        "id": "219f3784-220e-4889-ae88-09c80f556479"
      },
      "source": [
        "While we have used neural models so far, lets try a tree based model for this task. We use LightGBM library to train the main model. Lets set up few parameters for the lightgbm model, and specify some additional parameters:"
      ]
    },
    {
      "cell_type": "code",
      "execution_count": null,
      "id": "21e76b18-8d9e-4a1b-bf84-a929c8f16c6f",
      "metadata": {
        "execution": {
          "iopub.execute_input": "2022-07-31T23:41:13.611367Z",
          "iopub.status.busy": "2022-07-31T23:41:13.610880Z",
          "iopub.status.idle": "2022-07-31T23:41:13.620014Z",
          "shell.execute_reply": "2022-07-31T23:41:13.618307Z",
          "shell.execute_reply.started": "2022-07-31T23:41:13.611340Z"
        },
        "id": "21e76b18-8d9e-4a1b-bf84-a929c8f16c6f"
      },
      "outputs": [],
      "source": [
        "rand = 64\n",
        "lgb_params = {\n",
        "    \"objective\": \"binary\",\n",
        "    \"boosting\": \"gbdt\",\n",
        "    \"max_depth\": -1,\n",
        "    \"num_leaves\": 40,\n",
        "    \"subsample\": 0.8,\n",
        "    \"subsample_freq\": 1,\n",
        "    \"bagging_seed\": rand,\n",
        "    \"learning_rate\": 0.05,\n",
        "    \"feature_fraction\": 0.6,\n",
        "    \"min_data_in_leaf\": 100,\n",
        "    \"lambda_l1\": 0,\n",
        "    \"lambda_l2\": 0,\n",
        "    \"random_state\": rand,\n",
        "    \"metric\": \"auc\",#\"binary_logloss\",\n",
        "    \"verbose\": -1\n",
        "}\n",
        "\n",
        "tran_dtypes = {\"t_dat\":\"str\",\n",
        "               \"customer_id\":\"str\",\n",
        "               \"article_id\":\"int\",\n",
        "               \"product_code\":\"int\",\n",
        "               \"price\":\"float\",\n",
        "               \"sales_channel_id\":\"int\"}\n",
        "art_dtypes = {\"article_id\":\"int\",\n",
        "              \"product_code\":\"int\",\n",
        "              \"product_type_no\":\"int\",\n",
        "              \"graphical_appearance_no\":\"int\",\n",
        "              \"colour_group_code\":\"int\",\n",
        "              \"department_no\":\"int\",\n",
        "              \"index_code\":\"str\",\n",
        "              \"index_group_no\":\"int\",\n",
        "              \"section_no\":\"int\",\n",
        "              \"garment_group_no\":\"int\"}\n",
        "cust_dtypes = {\"customer_id\":\"str\"}\n",
        "\n",
        "obj = \"class\" # \"class\" or \"rank\"\n",
        "N = 15000\n",
        "n_iter = 2 # num of iteration\n",
        "idx_file = \"exp1\"\n",
        "n_round = 2000\n",
        "n_splits = 1\n",
        "nobuy = 20 # num of negative samples"
      ]
    },
    {
      "cell_type": "markdown",
      "id": "3df9c2e0-af9e-406d-a9c6-c38a87347728",
      "metadata": {
        "id": "3df9c2e0-af9e-406d-a9c6-c38a87347728"
      },
      "source": [
        "While we vary the user represnetations, we will keep the article representation fixed. The code below reads the article.csv file and extracts a number of features to represent articles."
      ]
    },
    {
      "cell_type": "code",
      "execution_count": null,
      "id": "fb93a7cd-a637-4960-9577-08449a57b55d",
      "metadata": {
        "colab": {
          "base_uri": "https://localhost:8080/"
        },
        "execution": {
          "iopub.execute_input": "2022-07-31T23:41:23.662131Z",
          "iopub.status.busy": "2022-07-31T23:41:23.661801Z",
          "iopub.status.idle": "2022-07-31T23:42:07.740897Z",
          "shell.execute_reply": "2022-07-31T23:42:07.739767Z",
          "shell.execute_reply.started": "2022-07-31T23:41:23.662108Z"
        },
        "id": "fb93a7cd-a637-4960-9577-08449a57b55d",
        "outputId": "9c86c9bd-6859-40c3-bda4-76ca84cec130"
      },
      "outputs": [
        {
          "name": "stderr",
          "output_type": "stream",
          "text": [
            "/usr/local/lib/python3.9/dist-packages/sklearn/utils/validation.py:727: FutureWarning: np.matrix usage is deprecated in 1.0 and will raise a TypeError in 1.2. Please convert to a numpy array with np.asarray. For more information see: https://numpy.org/doc/stable/reference/generated/numpy.matrix.html\n",
            "  warnings.warn(\n",
            "/usr/local/lib/python3.9/dist-packages/sklearn/utils/validation.py:727: FutureWarning: np.matrix usage is deprecated in 1.0 and will raise a TypeError in 1.2. Please convert to a numpy array with np.asarray. For more information see: https://numpy.org/doc/stable/reference/generated/numpy.matrix.html\n",
            "  warnings.warn(\n"
          ]
        }
      ],
      "source": [
        "path = \"hmdata/\"\n",
        "df = pd.read_csv(path+\"articles.csv.zip\")\n",
        "\n",
        "## Find categorical columns\n",
        "ohe_columns = []\n",
        "total = 0\n",
        "\n",
        "for col in df.columns:\n",
        "    if df[col].dtype == \"int64\" and len(df[col].unique()) <= 500:\n",
        "        ohe_columns.append(col)\n",
        "        total += len(df[col].unique())\n",
        "        \n",
        "## Do one hot encoding of the above categorical variables\n",
        "V = pd.get_dummies(df[ohe_columns], columns=ohe_columns).values\n",
        "\n",
        "\n",
        "## Get article features\n",
        "tfidf = TfidfVectorizer(min_df=3)\n",
        "V_desc = tfidf.fit_transform(df[\"detail_desc\"].fillna(\"nodesc\"))\n",
        "\n",
        "## Represent articles as vector of size 512\n",
        "EMB_SIZE = 128\n",
        "V = np.hstack([V.astype(\"float32\"), V_desc.todense()])\n",
        "svd = TruncatedSVD(n_components=EMB_SIZE, random_state=0)\n",
        "svd.fit(V)\n",
        "V = svd.transform(V)\n",
        "\n",
        "np.save(\"articles.npy\", V)"
      ]
    },
    {
      "cell_type": "code",
      "execution_count": null,
      "id": "64a3715e-de70-49d4-b057-e0b674ca65ff",
      "metadata": {
        "execution": {
          "iopub.execute_input": "2022-07-31T23:42:07.742409Z",
          "iopub.status.busy": "2022-07-31T23:42:07.742166Z",
          "iopub.status.idle": "2022-07-31T23:42:07.749842Z",
          "shell.execute_reply": "2022-07-31T23:42:07.748397Z",
          "shell.execute_reply.started": "2022-07-31T23:42:07.742385Z"
        },
        "id": "64a3715e-de70-49d4-b057-e0b674ca65ff"
      },
      "outputs": [],
      "source": [
        "def item_representation_1():\n",
        "    df_art = pd.read_csv(path+\"articles.csv.zip\")#,dtype=art_dtypes)\n",
        "    le = LabelEncoder()\n",
        "    le.fit(df_art[\"index_code\"].unique())\n",
        "    df_art[\"index_code\"] = le.transform(df_art[\"index_code\"])\n",
        "    \n",
        "    dict_vec = {}\n",
        "    vec_art = np.load(\"articles.npy\")\n",
        "    df_vec = pd.concat([df_art[\"article_id\"],pd.DataFrame(vec_art)],axis=1)\n",
        "    for i in range(len(vec_art)):\n",
        "        dict_vec[df_art[\"article_id\"][i]] = vec_art[i]\n",
        "    del vec_art,df_vec\n",
        "    \n",
        "    return df_art, dict_vec\n",
        "    "
      ]
    },
    {
      "cell_type": "code",
      "execution_count": null,
      "id": "4d9151f6-61c5-47d7-88a0-c6a25a0a8849",
      "metadata": {
        "execution": {
          "iopub.execute_input": "2022-07-31T21:21:57.104890Z",
          "iopub.status.busy": "2022-07-31T21:21:57.104448Z",
          "iopub.status.idle": "2022-07-31T21:22:50.072274Z",
          "shell.execute_reply": "2022-07-31T21:22:50.071027Z",
          "shell.execute_reply.started": "2022-07-31T21:21:57.104850Z"
        },
        "id": "4d9151f6-61c5-47d7-88a0-c6a25a0a8849"
      },
      "outputs": [],
      "source": [
        "path = \"hmdata/\"\n",
        "df_art = pd.read_csv(path+\"articles.csv.zip\")\n",
        "df_cust = pd.read_csv(path+\"customers.csv.zip\")\n",
        "df_trans = pd.read_csv(\"transactions_train.csv.zip\")"
      ]
    },
    {
      "cell_type": "code",
      "execution_count": null,
      "id": "99ef57ec-f84d-46d2-b1ad-c68286a6417e",
      "metadata": {
        "execution": {
          "iopub.execute_input": "2022-07-31T21:23:00.497071Z",
          "iopub.status.busy": "2022-07-31T21:23:00.496252Z",
          "iopub.status.idle": "2022-07-31T21:23:59.227446Z",
          "shell.execute_reply": "2022-07-31T21:23:59.226459Z",
          "shell.execute_reply.started": "2022-07-31T21:23:00.497071Z"
        },
        "id": "99ef57ec-f84d-46d2-b1ad-c68286a6417e",
        "outputId": "ec404ab3-88ad-4ea5-ff30-bdd0ed1abac3"
      },
      "outputs": [
        {
          "name": "stdout",
          "output_type": "stream",
          "text": [
            "CPU times: user 54.7 s, sys: 4.02 s, total: 58.7 s\n",
            "Wall time: 58.7 s\n"
          ]
        }
      ],
      "source": [
        "%%time\n",
        "# df_trans_groupby = df_trans.groupby('customer_id')['article_id']#.apply(list).reset_index(name='list')\n",
        "df_trans_groupby = df_trans.copy()\n",
        "trans_list = df_trans.groupby('customer_id')['article_id'].apply(list).to_dict()\n",
        "# trans_list\n",
        "# trans_list_test = trans_list.copy()"
      ]
    },
    {
      "cell_type": "code",
      "execution_count": null,
      "id": "3e80a712-5612-43b7-8be5-88f051884dd3",
      "metadata": {
        "execution": {
          "iopub.execute_input": "2022-07-31T21:30:30.663079Z",
          "iopub.status.busy": "2022-07-31T21:30:30.662654Z",
          "iopub.status.idle": "2022-07-31T21:32:04.050018Z",
          "shell.execute_reply": "2022-07-31T21:32:04.048914Z",
          "shell.execute_reply.started": "2022-07-31T21:30:30.663061Z"
        },
        "id": "3e80a712-5612-43b7-8be5-88f051884dd3",
        "outputId": "4e70bf2b-f9d9-44ac-dfd5-1b5945f7667a"
      },
      "outputs": [
        {
          "data": {
            "text/html": [
              "<div>\n",
              "<style scoped>\n",
              "    .dataframe tbody tr th:only-of-type {\n",
              "        vertical-align: middle;\n",
              "    }\n",
              "\n",
              "    .dataframe tbody tr th {\n",
              "        vertical-align: top;\n",
              "    }\n",
              "\n",
              "    .dataframe thead th {\n",
              "        text-align: right;\n",
              "    }\n",
              "</style>\n",
              "<table border=\"1\" class=\"dataframe\">\n",
              "  <thead>\n",
              "    <tr style=\"text-align: right;\">\n",
              "      <th></th>\n",
              "      <th>0</th>\n",
              "      <th>1</th>\n",
              "      <th>2</th>\n",
              "      <th>3</th>\n",
              "      <th>4</th>\n",
              "      <th>5</th>\n",
              "      <th>6</th>\n",
              "      <th>7</th>\n",
              "      <th>8</th>\n",
              "      <th>9</th>\n",
              "      <th>...</th>\n",
              "      <th>118</th>\n",
              "      <th>119</th>\n",
              "      <th>120</th>\n",
              "      <th>121</th>\n",
              "      <th>122</th>\n",
              "      <th>123</th>\n",
              "      <th>124</th>\n",
              "      <th>125</th>\n",
              "      <th>126</th>\n",
              "      <th>127</th>\n",
              "    </tr>\n",
              "  </thead>\n",
              "  <tbody>\n",
              "    <tr>\n",
              "      <th>00000dbacae5abe5e23885899a1fa44253a17956c6d1c3d25f88aa139fdfc657</th>\n",
              "      <td>1.567595</td>\n",
              "      <td>-0.462934</td>\n",
              "      <td>-0.079740</td>\n",
              "      <td>0.107913</td>\n",
              "      <td>0.126759</td>\n",
              "      <td>-0.148355</td>\n",
              "      <td>-0.116087</td>\n",
              "      <td>0.022590</td>\n",
              "      <td>0.015073</td>\n",
              "      <td>-0.093721</td>\n",
              "      <td>...</td>\n",
              "      <td>-0.015446</td>\n",
              "      <td>0.016739</td>\n",
              "      <td>-0.022356</td>\n",
              "      <td>0.013299</td>\n",
              "      <td>0.000129</td>\n",
              "      <td>-0.002355</td>\n",
              "      <td>-0.017938</td>\n",
              "      <td>-0.005494</td>\n",
              "      <td>0.016282</td>\n",
              "      <td>0.007945</td>\n",
              "    </tr>\n",
              "    <tr>\n",
              "      <th>0000423b00ade91418cceaf3b26c6af3dd342b51fd051eec9c12fb36984420fa</th>\n",
              "      <td>1.188486</td>\n",
              "      <td>-0.138246</td>\n",
              "      <td>0.219715</td>\n",
              "      <td>-0.147821</td>\n",
              "      <td>0.357985</td>\n",
              "      <td>0.072701</td>\n",
              "      <td>0.122105</td>\n",
              "      <td>-0.108504</td>\n",
              "      <td>-0.038888</td>\n",
              "      <td>-0.004817</td>\n",
              "      <td>...</td>\n",
              "      <td>0.007850</td>\n",
              "      <td>-0.018358</td>\n",
              "      <td>0.001453</td>\n",
              "      <td>0.006608</td>\n",
              "      <td>0.024435</td>\n",
              "      <td>0.015017</td>\n",
              "      <td>0.004309</td>\n",
              "      <td>0.021214</td>\n",
              "      <td>-0.008486</td>\n",
              "      <td>-0.008361</td>\n",
              "    </tr>\n",
              "    <tr>\n",
              "      <th>000058a12d5b43e67d225668fa1f8d618c13dc232df0cad8ffe7ad4a1091e318</th>\n",
              "      <td>1.228561</td>\n",
              "      <td>-0.287283</td>\n",
              "      <td>0.321911</td>\n",
              "      <td>-0.176738</td>\n",
              "      <td>0.092718</td>\n",
              "      <td>0.045223</td>\n",
              "      <td>0.045342</td>\n",
              "      <td>0.035184</td>\n",
              "      <td>0.213247</td>\n",
              "      <td>0.103971</td>\n",
              "      <td>...</td>\n",
              "      <td>-0.003578</td>\n",
              "      <td>-0.019923</td>\n",
              "      <td>0.004659</td>\n",
              "      <td>-0.050970</td>\n",
              "      <td>-0.009845</td>\n",
              "      <td>0.001854</td>\n",
              "      <td>0.005220</td>\n",
              "      <td>0.002617</td>\n",
              "      <td>-0.020436</td>\n",
              "      <td>-0.017185</td>\n",
              "    </tr>\n",
              "    <tr>\n",
              "      <th>00005ca1c9ed5f5146b52ac8639a40ca9d57aeff4d1bd2c5feb1ca5dff07c43e</th>\n",
              "      <td>1.711610</td>\n",
              "      <td>-0.894588</td>\n",
              "      <td>-0.450807</td>\n",
              "      <td>0.606224</td>\n",
              "      <td>-0.314727</td>\n",
              "      <td>-0.126163</td>\n",
              "      <td>-0.172181</td>\n",
              "      <td>0.674302</td>\n",
              "      <td>-0.171147</td>\n",
              "      <td>-0.476304</td>\n",
              "      <td>...</td>\n",
              "      <td>-0.002317</td>\n",
              "      <td>0.063460</td>\n",
              "      <td>0.039670</td>\n",
              "      <td>0.150802</td>\n",
              "      <td>0.118965</td>\n",
              "      <td>0.058843</td>\n",
              "      <td>0.089508</td>\n",
              "      <td>-0.104490</td>\n",
              "      <td>0.012366</td>\n",
              "      <td>0.061792</td>\n",
              "    </tr>\n",
              "    <tr>\n",
              "      <th>00006413d8573cd20ed7128e53b7b13819fe5cfc2d801fe7fc0f26dd8d65a85a</th>\n",
              "      <td>1.462490</td>\n",
              "      <td>-0.580023</td>\n",
              "      <td>0.155783</td>\n",
              "      <td>0.137606</td>\n",
              "      <td>0.396049</td>\n",
              "      <td>-0.097333</td>\n",
              "      <td>-0.182362</td>\n",
              "      <td>-0.006780</td>\n",
              "      <td>0.093760</td>\n",
              "      <td>-0.018613</td>\n",
              "      <td>...</td>\n",
              "      <td>-0.007914</td>\n",
              "      <td>-0.045624</td>\n",
              "      <td>0.010973</td>\n",
              "      <td>-0.056925</td>\n",
              "      <td>-0.019109</td>\n",
              "      <td>-0.039765</td>\n",
              "      <td>-0.054001</td>\n",
              "      <td>0.015857</td>\n",
              "      <td>0.008006</td>\n",
              "      <td>-0.022696</td>\n",
              "    </tr>\n",
              "  </tbody>\n",
              "</table>\n",
              "<p>5 rows × 128 columns</p>\n",
              "</div>"
            ],
            "text/plain": [
              "                                                         0         1    \\\n",
              "00000dbacae5abe5e23885899a1fa44253a17956c6d1c3d...  1.567595 -0.462934   \n",
              "0000423b00ade91418cceaf3b26c6af3dd342b51fd051ee...  1.188486 -0.138246   \n",
              "000058a12d5b43e67d225668fa1f8d618c13dc232df0cad...  1.228561 -0.287283   \n",
              "00005ca1c9ed5f5146b52ac8639a40ca9d57aeff4d1bd2c...  1.711610 -0.894588   \n",
              "00006413d8573cd20ed7128e53b7b13819fe5cfc2d801fe...  1.462490 -0.580023   \n",
              "\n",
              "                                                         2         3    \\\n",
              "00000dbacae5abe5e23885899a1fa44253a17956c6d1c3d... -0.079740  0.107913   \n",
              "0000423b00ade91418cceaf3b26c6af3dd342b51fd051ee...  0.219715 -0.147821   \n",
              "000058a12d5b43e67d225668fa1f8d618c13dc232df0cad...  0.321911 -0.176738   \n",
              "00005ca1c9ed5f5146b52ac8639a40ca9d57aeff4d1bd2c... -0.450807  0.606224   \n",
              "00006413d8573cd20ed7128e53b7b13819fe5cfc2d801fe...  0.155783  0.137606   \n",
              "\n",
              "                                                         4         5    \\\n",
              "00000dbacae5abe5e23885899a1fa44253a17956c6d1c3d...  0.126759 -0.148355   \n",
              "0000423b00ade91418cceaf3b26c6af3dd342b51fd051ee...  0.357985  0.072701   \n",
              "000058a12d5b43e67d225668fa1f8d618c13dc232df0cad...  0.092718  0.045223   \n",
              "00005ca1c9ed5f5146b52ac8639a40ca9d57aeff4d1bd2c... -0.314727 -0.126163   \n",
              "00006413d8573cd20ed7128e53b7b13819fe5cfc2d801fe...  0.396049 -0.097333   \n",
              "\n",
              "                                                         6         7    \\\n",
              "00000dbacae5abe5e23885899a1fa44253a17956c6d1c3d... -0.116087  0.022590   \n",
              "0000423b00ade91418cceaf3b26c6af3dd342b51fd051ee...  0.122105 -0.108504   \n",
              "000058a12d5b43e67d225668fa1f8d618c13dc232df0cad...  0.045342  0.035184   \n",
              "00005ca1c9ed5f5146b52ac8639a40ca9d57aeff4d1bd2c... -0.172181  0.674302   \n",
              "00006413d8573cd20ed7128e53b7b13819fe5cfc2d801fe... -0.182362 -0.006780   \n",
              "\n",
              "                                                         8         9    ...  \\\n",
              "00000dbacae5abe5e23885899a1fa44253a17956c6d1c3d...  0.015073 -0.093721  ...   \n",
              "0000423b00ade91418cceaf3b26c6af3dd342b51fd051ee... -0.038888 -0.004817  ...   \n",
              "000058a12d5b43e67d225668fa1f8d618c13dc232df0cad...  0.213247  0.103971  ...   \n",
              "00005ca1c9ed5f5146b52ac8639a40ca9d57aeff4d1bd2c... -0.171147 -0.476304  ...   \n",
              "00006413d8573cd20ed7128e53b7b13819fe5cfc2d801fe...  0.093760 -0.018613  ...   \n",
              "\n",
              "                                                         118       119  \\\n",
              "00000dbacae5abe5e23885899a1fa44253a17956c6d1c3d... -0.015446  0.016739   \n",
              "0000423b00ade91418cceaf3b26c6af3dd342b51fd051ee...  0.007850 -0.018358   \n",
              "000058a12d5b43e67d225668fa1f8d618c13dc232df0cad... -0.003578 -0.019923   \n",
              "00005ca1c9ed5f5146b52ac8639a40ca9d57aeff4d1bd2c... -0.002317  0.063460   \n",
              "00006413d8573cd20ed7128e53b7b13819fe5cfc2d801fe... -0.007914 -0.045624   \n",
              "\n",
              "                                                         120       121  \\\n",
              "00000dbacae5abe5e23885899a1fa44253a17956c6d1c3d... -0.022356  0.013299   \n",
              "0000423b00ade91418cceaf3b26c6af3dd342b51fd051ee...  0.001453  0.006608   \n",
              "000058a12d5b43e67d225668fa1f8d618c13dc232df0cad...  0.004659 -0.050970   \n",
              "00005ca1c9ed5f5146b52ac8639a40ca9d57aeff4d1bd2c...  0.039670  0.150802   \n",
              "00006413d8573cd20ed7128e53b7b13819fe5cfc2d801fe...  0.010973 -0.056925   \n",
              "\n",
              "                                                         122       123  \\\n",
              "00000dbacae5abe5e23885899a1fa44253a17956c6d1c3d...  0.000129 -0.002355   \n",
              "0000423b00ade91418cceaf3b26c6af3dd342b51fd051ee...  0.024435  0.015017   \n",
              "000058a12d5b43e67d225668fa1f8d618c13dc232df0cad... -0.009845  0.001854   \n",
              "00005ca1c9ed5f5146b52ac8639a40ca9d57aeff4d1bd2c...  0.118965  0.058843   \n",
              "00006413d8573cd20ed7128e53b7b13819fe5cfc2d801fe... -0.019109 -0.039765   \n",
              "\n",
              "                                                         124       125  \\\n",
              "00000dbacae5abe5e23885899a1fa44253a17956c6d1c3d... -0.017938 -0.005494   \n",
              "0000423b00ade91418cceaf3b26c6af3dd342b51fd051ee...  0.004309  0.021214   \n",
              "000058a12d5b43e67d225668fa1f8d618c13dc232df0cad...  0.005220  0.002617   \n",
              "00005ca1c9ed5f5146b52ac8639a40ca9d57aeff4d1bd2c...  0.089508 -0.104490   \n",
              "00006413d8573cd20ed7128e53b7b13819fe5cfc2d801fe... -0.054001  0.015857   \n",
              "\n",
              "                                                         126       127  \n",
              "00000dbacae5abe5e23885899a1fa44253a17956c6d1c3d...  0.016282  0.007945  \n",
              "0000423b00ade91418cceaf3b26c6af3dd342b51fd051ee... -0.008486 -0.008361  \n",
              "000058a12d5b43e67d225668fa1f8d618c13dc232df0cad... -0.020436 -0.017185  \n",
              "00005ca1c9ed5f5146b52ac8639a40ca9d57aeff4d1bd2c...  0.012366  0.061792  \n",
              "00006413d8573cd20ed7128e53b7b13819fe5cfc2d801fe...  0.008006 -0.022696  \n",
              "\n",
              "[5 rows x 128 columns]"
            ]
          },
          "execution_count": 10,
          "metadata": {},
          "output_type": "execute_result"
        }
      ],
      "source": [
        "final_trans_list_df = pd.DataFrame.from_dict(final_trans_list, orient='index')\n",
        "final_trans_list_df.index.name = 'customer_id'\n",
        "final_trans_list_df.head()"
      ]
    },
    {
      "cell_type": "code",
      "execution_count": null,
      "id": "82153e5f-dbff-45c4-8468-39c21382ab97",
      "metadata": {
        "execution": {
          "iopub.execute_input": "2022-07-31T21:33:01.427199Z",
          "iopub.status.busy": "2022-07-31T21:33:01.426708Z",
          "iopub.status.idle": "2022-07-31T21:43:50.315070Z",
          "shell.execute_reply": "2022-07-31T21:43:50.313263Z",
          "shell.execute_reply.started": "2022-07-31T21:33:01.427162Z"
        },
        "id": "82153e5f-dbff-45c4-8468-39c21382ab97"
      },
      "outputs": [],
      "source": [
        "final_trans_list_df.to_csv('avg_user_embed_2.csv.zip')"
      ]
    },
    {
      "cell_type": "code",
      "execution_count": null,
      "id": "3b8d4782-f900-434c-aa26-5ff6ccf33fbc",
      "metadata": {
        "execution": {
          "iopub.execute_input": "2022-07-31T23:24:14.673910Z",
          "iopub.status.busy": "2022-07-31T23:24:14.673551Z",
          "iopub.status.idle": "2022-07-31T23:24:21.156827Z",
          "shell.execute_reply": "2022-07-31T23:24:21.155953Z",
          "shell.execute_reply.started": "2022-07-31T23:24:14.673885Z"
        },
        "id": "3b8d4782-f900-434c-aa26-5ff6ccf33fbc",
        "outputId": "81bf9b5f-b8d6-48f8-ce0f-1cededa28c13"
      },
      "outputs": [
        {
          "data": {
            "text/html": [
              "<div>\n",
              "<style scoped>\n",
              "    .dataframe tbody tr th:only-of-type {\n",
              "        vertical-align: middle;\n",
              "    }\n",
              "\n",
              "    .dataframe tbody tr th {\n",
              "        vertical-align: top;\n",
              "    }\n",
              "\n",
              "    .dataframe thead th {\n",
              "        text-align: right;\n",
              "    }\n",
              "</style>\n",
              "<table border=\"1\" class=\"dataframe\">\n",
              "  <thead>\n",
              "    <tr style=\"text-align: right;\">\n",
              "      <th></th>\n",
              "      <th>customer_id</th>\n",
              "      <th>FN</th>\n",
              "      <th>Active</th>\n",
              "      <th>club_member_status</th>\n",
              "      <th>fashion_news_frequency</th>\n",
              "      <th>age</th>\n",
              "    </tr>\n",
              "  </thead>\n",
              "  <tbody>\n",
              "    <tr>\n",
              "      <th>0</th>\n",
              "      <td>00000dbacae5abe5e23885899a1fa44253a17956c6d1c3...</td>\n",
              "      <td>0.0</td>\n",
              "      <td>0.0</td>\n",
              "      <td>1</td>\n",
              "      <td>0</td>\n",
              "      <td>49.0</td>\n",
              "    </tr>\n",
              "    <tr>\n",
              "      <th>1</th>\n",
              "      <td>0000423b00ade91418cceaf3b26c6af3dd342b51fd051e...</td>\n",
              "      <td>0.0</td>\n",
              "      <td>0.0</td>\n",
              "      <td>1</td>\n",
              "      <td>0</td>\n",
              "      <td>25.0</td>\n",
              "    </tr>\n",
              "    <tr>\n",
              "      <th>2</th>\n",
              "      <td>000058a12d5b43e67d225668fa1f8d618c13dc232df0ca...</td>\n",
              "      <td>0.0</td>\n",
              "      <td>0.0</td>\n",
              "      <td>1</td>\n",
              "      <td>0</td>\n",
              "      <td>24.0</td>\n",
              "    </tr>\n",
              "    <tr>\n",
              "      <th>3</th>\n",
              "      <td>00005ca1c9ed5f5146b52ac8639a40ca9d57aeff4d1bd2...</td>\n",
              "      <td>0.0</td>\n",
              "      <td>0.0</td>\n",
              "      <td>1</td>\n",
              "      <td>0</td>\n",
              "      <td>54.0</td>\n",
              "    </tr>\n",
              "    <tr>\n",
              "      <th>4</th>\n",
              "      <td>00006413d8573cd20ed7128e53b7b13819fe5cfc2d801f...</td>\n",
              "      <td>1.0</td>\n",
              "      <td>1.0</td>\n",
              "      <td>1</td>\n",
              "      <td>1</td>\n",
              "      <td>52.0</td>\n",
              "    </tr>\n",
              "  </tbody>\n",
              "</table>\n",
              "</div>"
            ],
            "text/plain": [
              "                                         customer_id   FN  Active  \\\n",
              "0  00000dbacae5abe5e23885899a1fa44253a17956c6d1c3...  0.0     0.0   \n",
              "1  0000423b00ade91418cceaf3b26c6af3dd342b51fd051e...  0.0     0.0   \n",
              "2  000058a12d5b43e67d225668fa1f8d618c13dc232df0ca...  0.0     0.0   \n",
              "3  00005ca1c9ed5f5146b52ac8639a40ca9d57aeff4d1bd2...  0.0     0.0   \n",
              "4  00006413d8573cd20ed7128e53b7b13819fe5cfc2d801f...  1.0     1.0   \n",
              "\n",
              "   club_member_status  fashion_news_frequency   age  \n",
              "0                   1                       0  49.0  \n",
              "1                   1                       0  25.0  \n",
              "2                   1                       0  24.0  \n",
              "3                   1                       0  54.0  \n",
              "4                   1                       1  52.0  "
            ]
          },
          "execution_count": 15,
          "metadata": {},
          "output_type": "execute_result"
        }
      ],
      "source": [
        "df_cust = user_representation_1()\n",
        "df_cust_us1 = df_cust.copy()\n",
        "df_cust_us1.head()"
      ]
    },
    {
      "cell_type": "code",
      "execution_count": null,
      "id": "3ea129ed-d4be-47cd-9eaf-41c891e16830",
      "metadata": {
        "execution": {
          "iopub.execute_input": "2022-07-31T23:45:09.693114Z",
          "iopub.status.busy": "2022-07-31T23:45:09.692151Z",
          "iopub.status.idle": "2022-07-31T23:45:10.591760Z",
          "shell.execute_reply": "2022-07-31T23:45:10.590172Z",
          "shell.execute_reply.started": "2022-07-31T23:45:09.693077Z"
        },
        "id": "3ea129ed-d4be-47cd-9eaf-41c891e16830",
        "outputId": "bcae6a57-7b39-475e-e6ab-7906d72c5fd2"
      },
      "outputs": [
        {
          "data": {
            "text/html": [
              "<div>\n",
              "<style scoped>\n",
              "    .dataframe tbody tr th:only-of-type {\n",
              "        vertical-align: middle;\n",
              "    }\n",
              "\n",
              "    .dataframe tbody tr th {\n",
              "        vertical-align: top;\n",
              "    }\n",
              "\n",
              "    .dataframe thead th {\n",
              "        text-align: right;\n",
              "    }\n",
              "</style>\n",
              "<table border=\"1\" class=\"dataframe\">\n",
              "  <thead>\n",
              "    <tr style=\"text-align: right;\">\n",
              "      <th></th>\n",
              "      <th>customer_id</th>\n",
              "      <th>FN</th>\n",
              "      <th>Active</th>\n",
              "      <th>club_member_status</th>\n",
              "      <th>fashion_news_frequency</th>\n",
              "      <th>age</th>\n",
              "      <th>0</th>\n",
              "      <th>1</th>\n",
              "      <th>2</th>\n",
              "      <th>3</th>\n",
              "      <th>...</th>\n",
              "      <th>118</th>\n",
              "      <th>119</th>\n",
              "      <th>120</th>\n",
              "      <th>121</th>\n",
              "      <th>122</th>\n",
              "      <th>123</th>\n",
              "      <th>124</th>\n",
              "      <th>125</th>\n",
              "      <th>126</th>\n",
              "      <th>127</th>\n",
              "    </tr>\n",
              "  </thead>\n",
              "  <tbody>\n",
              "    <tr>\n",
              "      <th>0</th>\n",
              "      <td>00000dbacae5abe5e23885899a1fa44253a17956c6d1c3...</td>\n",
              "      <td>0.0</td>\n",
              "      <td>0.0</td>\n",
              "      <td>1</td>\n",
              "      <td>0</td>\n",
              "      <td>49.0</td>\n",
              "      <td>1.567595</td>\n",
              "      <td>-0.462934</td>\n",
              "      <td>-0.079740</td>\n",
              "      <td>0.107913</td>\n",
              "      <td>...</td>\n",
              "      <td>-0.015446</td>\n",
              "      <td>0.016739</td>\n",
              "      <td>-0.022356</td>\n",
              "      <td>0.013299</td>\n",
              "      <td>0.000129</td>\n",
              "      <td>-0.002355</td>\n",
              "      <td>-0.017938</td>\n",
              "      <td>-0.005494</td>\n",
              "      <td>0.016282</td>\n",
              "      <td>0.007945</td>\n",
              "    </tr>\n",
              "    <tr>\n",
              "      <th>1</th>\n",
              "      <td>0000423b00ade91418cceaf3b26c6af3dd342b51fd051e...</td>\n",
              "      <td>0.0</td>\n",
              "      <td>0.0</td>\n",
              "      <td>1</td>\n",
              "      <td>0</td>\n",
              "      <td>25.0</td>\n",
              "      <td>1.188486</td>\n",
              "      <td>-0.138246</td>\n",
              "      <td>0.219715</td>\n",
              "      <td>-0.147821</td>\n",
              "      <td>...</td>\n",
              "      <td>0.007850</td>\n",
              "      <td>-0.018358</td>\n",
              "      <td>0.001453</td>\n",
              "      <td>0.006608</td>\n",
              "      <td>0.024435</td>\n",
              "      <td>0.015017</td>\n",
              "      <td>0.004309</td>\n",
              "      <td>0.021214</td>\n",
              "      <td>-0.008486</td>\n",
              "      <td>-0.008361</td>\n",
              "    </tr>\n",
              "    <tr>\n",
              "      <th>2</th>\n",
              "      <td>000058a12d5b43e67d225668fa1f8d618c13dc232df0ca...</td>\n",
              "      <td>0.0</td>\n",
              "      <td>0.0</td>\n",
              "      <td>1</td>\n",
              "      <td>0</td>\n",
              "      <td>24.0</td>\n",
              "      <td>1.228561</td>\n",
              "      <td>-0.287283</td>\n",
              "      <td>0.321911</td>\n",
              "      <td>-0.176738</td>\n",
              "      <td>...</td>\n",
              "      <td>-0.003578</td>\n",
              "      <td>-0.019923</td>\n",
              "      <td>0.004659</td>\n",
              "      <td>-0.050970</td>\n",
              "      <td>-0.009845</td>\n",
              "      <td>0.001854</td>\n",
              "      <td>0.005220</td>\n",
              "      <td>0.002617</td>\n",
              "      <td>-0.020436</td>\n",
              "      <td>-0.017185</td>\n",
              "    </tr>\n",
              "    <tr>\n",
              "      <th>3</th>\n",
              "      <td>00005ca1c9ed5f5146b52ac8639a40ca9d57aeff4d1bd2...</td>\n",
              "      <td>0.0</td>\n",
              "      <td>0.0</td>\n",
              "      <td>1</td>\n",
              "      <td>0</td>\n",
              "      <td>54.0</td>\n",
              "      <td>1.711610</td>\n",
              "      <td>-0.894588</td>\n",
              "      <td>-0.450807</td>\n",
              "      <td>0.606224</td>\n",
              "      <td>...</td>\n",
              "      <td>-0.002317</td>\n",
              "      <td>0.063460</td>\n",
              "      <td>0.039670</td>\n",
              "      <td>0.150802</td>\n",
              "      <td>0.118965</td>\n",
              "      <td>0.058843</td>\n",
              "      <td>0.089508</td>\n",
              "      <td>-0.104490</td>\n",
              "      <td>0.012366</td>\n",
              "      <td>0.061792</td>\n",
              "    </tr>\n",
              "    <tr>\n",
              "      <th>4</th>\n",
              "      <td>00006413d8573cd20ed7128e53b7b13819fe5cfc2d801f...</td>\n",
              "      <td>1.0</td>\n",
              "      <td>1.0</td>\n",
              "      <td>1</td>\n",
              "      <td>1</td>\n",
              "      <td>52.0</td>\n",
              "      <td>1.462490</td>\n",
              "      <td>-0.580023</td>\n",
              "      <td>0.155783</td>\n",
              "      <td>0.137606</td>\n",
              "      <td>...</td>\n",
              "      <td>-0.007914</td>\n",
              "      <td>-0.045624</td>\n",
              "      <td>0.010973</td>\n",
              "      <td>-0.056925</td>\n",
              "      <td>-0.019109</td>\n",
              "      <td>-0.039765</td>\n",
              "      <td>-0.054001</td>\n",
              "      <td>0.015857</td>\n",
              "      <td>0.008006</td>\n",
              "      <td>-0.022696</td>\n",
              "    </tr>\n",
              "  </tbody>\n",
              "</table>\n",
              "<p>5 rows × 134 columns</p>\n",
              "</div>"
            ],
            "text/plain": [
              "                                         customer_id   FN  Active  \\\n",
              "0  00000dbacae5abe5e23885899a1fa44253a17956c6d1c3...  0.0     0.0   \n",
              "1  0000423b00ade91418cceaf3b26c6af3dd342b51fd051e...  0.0     0.0   \n",
              "2  000058a12d5b43e67d225668fa1f8d618c13dc232df0ca...  0.0     0.0   \n",
              "3  00005ca1c9ed5f5146b52ac8639a40ca9d57aeff4d1bd2...  0.0     0.0   \n",
              "4  00006413d8573cd20ed7128e53b7b13819fe5cfc2d801f...  1.0     1.0   \n",
              "\n",
              "   club_member_status  fashion_news_frequency   age         0         1  \\\n",
              "0                   1                       0  49.0  1.567595 -0.462934   \n",
              "1                   1                       0  25.0  1.188486 -0.138246   \n",
              "2                   1                       0  24.0  1.228561 -0.287283   \n",
              "3                   1                       0  54.0  1.711610 -0.894588   \n",
              "4                   1                       1  52.0  1.462490 -0.580023   \n",
              "\n",
              "          2         3  ...       118       119       120       121       122  \\\n",
              "0 -0.079740  0.107913  ... -0.015446  0.016739 -0.022356  0.013299  0.000129   \n",
              "1  0.219715 -0.147821  ...  0.007850 -0.018358  0.001453  0.006608  0.024435   \n",
              "2  0.321911 -0.176738  ... -0.003578 -0.019923  0.004659 -0.050970 -0.009845   \n",
              "3 -0.450807  0.606224  ... -0.002317  0.063460  0.039670  0.150802  0.118965   \n",
              "4  0.155783  0.137606  ... -0.007914 -0.045624  0.010973 -0.056925 -0.019109   \n",
              "\n",
              "        123       124       125       126       127  \n",
              "0 -0.002355 -0.017938 -0.005494  0.016282  0.007945  \n",
              "1  0.015017  0.004309  0.021214 -0.008486 -0.008361  \n",
              "2  0.001854  0.005220  0.002617 -0.020436 -0.017185  \n",
              "3  0.058843  0.089508 -0.104490  0.012366  0.061792  \n",
              "4 -0.039765 -0.054001  0.015857  0.008006 -0.022696  \n",
              "\n",
              "[5 rows x 134 columns]"
            ]
          },
          "execution_count": 8,
          "metadata": {},
          "output_type": "execute_result"
        }
      ],
      "source": [
        "df_cust_us2 = df_cust_us1.merge(final_trans_list_df, how='left', on='customer_id')\n",
        "df_cust_us2 = df_cust_us2.drop('Unnamed: 0', axis=1)\n",
        "df_cust_us2.head()"
      ]
    },
    {
      "cell_type": "code",
      "execution_count": null,
      "id": "39444738-0c82-4b18-9838-d62315d06357",
      "metadata": {
        "execution": {
          "iopub.execute_input": "2022-07-31T23:43:00.862106Z",
          "iopub.status.busy": "2022-07-31T23:43:00.861727Z",
          "iopub.status.idle": "2022-07-31T23:44:16.355103Z",
          "shell.execute_reply": "2022-07-31T23:44:16.353759Z",
          "shell.execute_reply.started": "2022-07-31T23:43:00.862070Z"
        },
        "id": "39444738-0c82-4b18-9838-d62315d06357",
        "outputId": "27a18319-bcfa-4439-9a1d-c7ebd31bda84"
      },
      "outputs": [
        {
          "name": "stdout",
          "output_type": "stream",
          "text": [
            "loading the user_embeding 2 file\n"
          ]
        }
      ],
      "source": [
        "# df_cust_us2.to_csv('df_cust_us2.csv.zip')\n",
        "print('loading the user_embeding 2 file')\n",
        "df_cust_us2 = pd.read_csv('df_cust_us2.csv.zip')"
      ]
    },
    {
      "cell_type": "markdown",
      "id": "7cbe5f64-354c-451e-a9e0-eb114440f8f0",
      "metadata": {
        "id": "7cbe5f64-354c-451e-a9e0-eb114440f8f0"
      },
      "source": [
        "Taken together, the two cells above give us all the features we want to represent articles."
      ]
    },
    {
      "cell_type": "markdown",
      "id": "f0c3082e-1da7-466f-8b9f-c777c8ef63cd",
      "metadata": {
        "id": "f0c3082e-1da7-466f-8b9f-c777c8ef63cd"
      },
      "source": [
        "Now lets define some functions to extract user representations. The different functions will contain different ways of representing users.\n",
        "\n",
        "We bootstrap by providing a simple set of features to represent users in user_representation_1(). This function returns the dataframe of user features."
      ]
    },
    {
      "cell_type": "code",
      "execution_count": null,
      "id": "5de63a95-ef6c-4796-8e59-0cb33b9b948e",
      "metadata": {
        "execution": {
          "iopub.execute_input": "2022-07-31T23:45:22.061946Z",
          "iopub.status.busy": "2022-07-31T23:45:22.061514Z",
          "iopub.status.idle": "2022-07-31T23:45:22.071815Z",
          "shell.execute_reply": "2022-07-31T23:45:22.070348Z",
          "shell.execute_reply.started": "2022-07-31T23:45:22.061919Z"
        },
        "id": "5de63a95-ef6c-4796-8e59-0cb33b9b948e"
      },
      "outputs": [],
      "source": [
        "def user_representation_1():\n",
        "    df_cust = pd.read_csv(path+\"customers.csv.zip\")#,dtype=cust_dtypes)\n",
        "    df_cust[\"age\"] = df_cust[\"age\"].fillna(df_cust[\"age\"].mean())\n",
        "    df_cust[[\"FN\",\"Active\"]] = df_cust[[\"FN\",\"Active\"]].fillna(0)\n",
        "    df_cust[\"club_member_status\"] = df_cust[\"club_member_status\"].apply(lambda x:1 if x == \"ACTIVE\" else 0)\n",
        "    df_cust[\"fashion_news_frequency\"] = df_cust[\"fashion_news_frequency\"].apply(lambda x:0 if x == \"NONE\" else 1)\n",
        "    df_cust = df_cust.drop([\"postal_code\"], axis=1)\n",
        "    return df_cust"
      ]
    },
    {
      "cell_type": "code",
      "execution_count": null,
      "id": "65dbcef5-701a-4999-b696-3d871ccb485d",
      "metadata": {
        "execution": {
          "iopub.execute_input": "2022-07-31T23:45:24.830472Z",
          "iopub.status.busy": "2022-07-31T23:45:24.829719Z",
          "iopub.status.idle": "2022-07-31T23:45:24.839711Z",
          "shell.execute_reply": "2022-07-31T23:45:24.838159Z",
          "shell.execute_reply.started": "2022-07-31T23:45:24.830425Z"
        },
        "id": "65dbcef5-701a-4999-b696-3d871ccb485d"
      },
      "outputs": [],
      "source": [
        "def user_representation_2():\n",
        "    \"\"\"\n",
        "    TODO -- compute user representations as the average\n",
        "    of the embeddings of the recently purchased articles\n",
        "    return user representation\n",
        "\n",
        "    Hint: You may find pd.DataFrame(item_representation_1()[1]).transpose() useful\n",
        "    \"\"\"\n",
        "    df_article_embed = pd.DataFrame(item_representation_1()[1]).transpose().rename_axis('article_id').reset_index()#.to_dict()#\n",
        "    df_article_embed['article_id'] = df_article_embed['article_id'].astype(str)\n",
        "    df_article_embed = df_article_embed.set_index('article_id').T.to_dict('list')\n",
        "\n",
        "    # df_trans_groupby = df_trans.copy()\n",
        "    trans_list = df_trans.groupby('customer_id')['article_id'].apply(list).to_dict()\n",
        "    \n",
        "    final_trans_list = {}\n",
        "\n",
        "    for k, dk in trans_list.items():\n",
        "      for i, x in enumerate(dk):\n",
        "        # print(i)\n",
        "        dk[i] = df_article_embed.get(str(x))\n",
        "      final_trans_list[k] = np.mean(dk, axis=0)\n",
        "\n",
        "    final_trans_list_df = pd.DataFrame.from_dict(final_trans_list, orient='index')\n",
        "    \n",
        "    final_trans_list_df.index.name = 'customer_id'\n",
        "    # final_trans_list_df.head()\n",
        "    # final_trans_list_df.to_csv('avg_user_embed_2.csv.zip')\n",
        "\n",
        "\n",
        "    df_cust = user_representation_1()\n",
        "    df_cust_us1 = df_cust.copy()\n",
        "    # df_cust_us1.head()\n",
        "\n",
        "    df_cust_us2 = df_cust_us1.merge(final_trans_list_df, how='left', on='customer_id')\n",
        "    df_cust_us2 = df_cust_us2.drop('Unnamed: 0', axis=1)\n",
        "    # df_cust_us2.head()\n",
        "\n",
        "    return df_cust_us2\n",
        "\n",
        "def user_representation_3():\n",
        "    \"\"\"\n",
        "    OPTIONAL -- compute user representations as the output\n",
        "    of the doc2vec model.\n",
        "    https://cs.stanford.edu/~quocle/paragraph_vector.pdf\n",
        "    Doc2vec model is an embedding learning method\n",
        "    that enables us to learn representations of a document.\n",
        "    We treat each user as a document, and the set of articles\n",
        "    the user has purchased as the set of words in the document.\n",
        "    \"\"\"\n",
        "    return None"
      ]
    },
    {
      "cell_type": "markdown",
      "id": "d39b7430-bf43-4f16-b7a8-a6edbd078e1d",
      "metadata": {
        "id": "d39b7430-bf43-4f16-b7a8-a6edbd078e1d"
      },
      "source": [
        "As part of the goal for part B of this week's project, please use the above two functions to implement the two user representation techniques mentioned in the project jumpstart.\n",
        "\n",
        "You can run the rest of the notebook for now, and come back to these functions, implement them and re-run some of the code below and use user_representation_2() (and optionally user_representation_3()) to get the appropriate user features to use to train the model for the downstream task.\n",
        "\n",
        "Lets write a function that would read the transactions data and return the dataframes for the transactions within the dates we want to consider, along with the dataframes for articles features: df_art and dict_vec."
      ]
    },
    {
      "cell_type": "code",
      "execution_count": null,
      "id": "55c3e4dd-ce84-4199-9215-06490305db3c",
      "metadata": {
        "execution": {
          "iopub.execute_input": "2022-07-31T23:45:29.174641Z",
          "iopub.status.busy": "2022-07-31T23:45:29.174072Z",
          "iopub.status.idle": "2022-07-31T23:45:29.184351Z",
          "shell.execute_reply": "2022-07-31T23:45:29.183095Z",
          "shell.execute_reply.started": "2022-07-31T23:45:29.174577Z"
        },
        "id": "55c3e4dd-ce84-4199-9215-06490305db3c"
      },
      "outputs": [],
      "source": [
        "path = \"hmdata/\"\n",
        "def read_data(day_oldest):\n",
        "    df_trans = pd.read_csv('transactions_train.csv.zip')#,dtype=tran_dtypes)\n",
        "    df_trans[\"t_dat\"] = pd.to_datetime(df_trans[\"t_dat\"],format=\"%Y-%m-%d\")\n",
        "\n",
        "    df_trans = df_trans.query(f\"t_dat >= '{day_oldest}'\").copy()\n",
        "    df_trans = df_trans.drop_duplicates([\"customer_id\",\"article_id\",\"t_dat\"])\n",
        "    df_art,dict_vec = item_representation_1()\n",
        "    df_trans = df_trans.merge(df_art[[\"article_id\",\"product_code\",\"product_type_no\",\"graphical_appearance_no\",\"colour_group_code\",\"department_no\",\"index_code\",\"index_group_no\",\"section_no\",\"garment_group_no\"]],how=\"left\",on=\"article_id\")\n",
        "\n",
        "    return df_trans, df_art, dict_vec"
      ]
    },
    {
      "cell_type": "markdown",
      "id": "4128aa41-0a7c-405c-a2c2-02a3e19678f2",
      "metadata": {
        "id": "4128aa41-0a7c-405c-a2c2-02a3e19678f2"
      },
      "source": [
        "Now we have all the ingredients we need -- we have a basic version of user representations and we have the article representations, and transactions data on which we can train our downstream task.\n",
        "\n",
        "The downstream task we consider is the task of predicting whether or not a user will purchase an article. This is the same task that we have been dealing with in the past 2 weeks.\n",
        "\n",
        "Lets define a train() function that will consider the start and end dates and split data based on these, generate the training data, do random negative sampling and train the model."
      ]
    },
    {
      "cell_type": "code",
      "execution_count": null,
      "id": "5e0c7a4f-8e4d-42f7-b379-1ebc870375d9",
      "metadata": {
        "execution": {
          "iopub.execute_input": "2022-07-31T23:45:32.538324Z",
          "iopub.status.busy": "2022-07-31T23:45:32.537927Z",
          "iopub.status.idle": "2022-07-31T23:45:32.555285Z",
          "shell.execute_reply": "2022-07-31T23:45:32.553583Z",
          "shell.execute_reply.started": "2022-07-31T23:45:32.538297Z"
        },
        "id": "5e0c7a4f-8e4d-42f7-b379-1ebc870375d9"
      },
      "outputs": [],
      "source": [
        "def train():\n",
        "    #### Transaction start date say it is from 2019/9/23 and say we take 1 week data\n",
        "    day_start = datetime.datetime(2019,9,23) - datetime.timedelta(days=6)\n",
        "    #### Transaction end date\n",
        "    day_end = datetime.datetime(2019,9,23) - datetime.timedelta(days=0)\n",
        "    \n",
        "    ######## Splitting data based on date ###########################\n",
        "    ####### Train date ###########################################\n",
        "    ## Let's consider the training data for 1 year\n",
        "    day_start_hist = day_start - datetime.timedelta(days=366)\n",
        "    day_end_hist = day_start - datetime.timedelta(days=1)\n",
        "    \n",
        "    df_trans, df_art, dict_vec = read_data(day_oldest = datetime.datetime(2018,9,23))\n",
        "    print('loading the user_embeding 2 file')\n",
        "    # df_cust = user_representation_1()\n",
        "    df_cust = user_representation_2()\n",
        "    # df_cust = df_cust_us2.copy()\n",
        "\n",
        "    query_date = f\"((t_dat >= '{day_start}') and (t_dat <= '{day_end}'))\"\n",
        "    top_art_all = df_trans.query(query_date ).groupby(\"article_id\")[\"t_dat\"].count().sort_values(ascending = False).index[:N].tolist()\n",
        "\n",
        "    \n",
        "    ############### Create training data #################################################################################\n",
        "    \n",
        "    \n",
        "    list_df_buy = []\n",
        "    list_cust =[]\n",
        "    \n",
        "    # make positive samples\n",
        "    print('make positive samples')\n",
        "    list_df_buy = df_trans.query(f\"(t_dat >= '{day_start}') and (t_dat <= '{day_end}') and (article_id in @top_art_all)\").drop_duplicates([\"customer_id\",\"article_id\"])[[\"customer_id\",\"article_id\"]].copy()\n",
        "    list_df_buy[\"target\"] = 1\n",
        "    list_cust = list_df_buy[\"customer_id\"].unique().tolist()\n",
        "        \n",
        "        \n",
        "    # make negative samples (random selection)\n",
        "    print('make negative samples')\n",
        "    \n",
        "    list_df_nobuy = pd.concat([pd.DataFrame({\"customer_id\":x,\"article_id\":random.sample(top_art_all,nobuy)}) for x in list_cust])\n",
        "    list_df_nobuy[\"target\"] = 0\n",
        "    list_train = pd.concat([list_df_buy,list_df_nobuy]).drop_duplicates([\"customer_id\",\"article_id\"])\n",
        "    del list_df_nobuy\n",
        "\n",
        "    # add feature\n",
        "    print('training data extraction')\n",
        "    df_train = pd.DataFrame()\n",
        "    \n",
        "    ########## Merging item features with the transactions data ###################################################\n",
        "    list_train = list_train.merge(df_art[[\"article_id\",\"product_code\",\"product_type_no\",\"graphical_appearance_no\",\"colour_group_code\",\"department_no\",\"index_code\",\"index_group_no\",\"section_no\",\"garment_group_no\"]],how=\"left\",on=\"article_id\")\n",
        "    \n",
        "    ######### Merging customer data with the above data ######################################\n",
        "    list_train = list_train.merge(df_cust, how=\"left\", on=\"customer_id\")\n",
        "    print('training data extraction')\n",
        "    df_train = df_train.append(list_train)\n",
        "    del list_train\n",
        "    gc.collect()\n",
        "    \n",
        "    \n",
        "    # now that we have all the data in place, lets train the lgbm model\n",
        "\n",
        "    # train lgbm\n",
        "    X_train = df_train.drop([\"customer_id\",\"product_code\",\"product_type_no\",\"department_no\",\"target\"],axis=1)\n",
        "    y_train = df_train[\"target\"]\n",
        "    del df_train\n",
        "    \n",
        "    print('start training')\n",
        "    X_tr, X_va, y_tr, y_va = train_test_split(X_train,y_train,stratify = y_train)\n",
        "    d_tr = lgb.Dataset(X_tr, label=y_tr,  free_raw_data=False)\n",
        "    d_va = lgb.Dataset(X_va, label=y_va,  free_raw_data=False)\n",
        "    lgbm_model = lgb.train(lgb_params, train_set=d_tr, num_boost_round=n_round, valid_sets=[d_tr,d_va], verbose_eval=500, early_stopping_rounds=100)\n",
        "    \n",
        "    print('saving model')\n",
        "    # save model\n",
        "    pd.to_pickle(lgbm_model,\"lgbm_model_user_emed_2.pkl\")\n",
        "    del X_train, y_train, X_tr, X_va, y_tr, y_va, d_tr, d_va\n",
        "    gc.collect()\n",
        "    del df_trans, df_art, df_cust\n",
        "    gc.collect()\n",
        "    return 0"
      ]
    },
    {
      "cell_type": "code",
      "execution_count": null,
      "id": "fd95eed5-3552-46f2-8be0-7088ce17023a",
      "metadata": {
        "execution": {
          "iopub.execute_input": "2022-07-31T23:45:52.429973Z",
          "iopub.status.busy": "2022-07-31T23:45:52.429317Z",
          "iopub.status.idle": "2022-07-31T23:58:29.073268Z",
          "shell.execute_reply": "2022-07-31T23:58:29.072314Z",
          "shell.execute_reply.started": "2022-07-31T23:45:52.429852Z"
        },
        "id": "fd95eed5-3552-46f2-8be0-7088ce17023a",
        "outputId": "4aad9ce1-f3a9-4c5e-ce41-eca5ec751282"
      },
      "outputs": [
        {
          "name": "stdout",
          "output_type": "stream",
          "text": [
            "loading the user_embeding 2 file\n",
            "make positive samples\n",
            "make negative samples\n",
            "training data extraction\n",
            "training data extraction\n"
          ]
        },
        {
          "name": "stderr",
          "output_type": "stream",
          "text": [
            "/tmp/ipykernel_109/2247961737.py:55: FutureWarning: The frame.append method is deprecated and will be removed from pandas in a future version. Use pandas.concat instead.\n",
            "  df_train = df_train.append(list_train)\n"
          ]
        },
        {
          "name": "stdout",
          "output_type": "stream",
          "text": [
            "start training\n"
          ]
        },
        {
          "name": "stderr",
          "output_type": "stream",
          "text": [
            "/usr/local/lib/python3.9/dist-packages/lightgbm/engine.py:181: UserWarning: 'early_stopping_rounds' argument is deprecated and will be removed in a future release of LightGBM. Pass 'early_stopping()' callback via 'callbacks' argument instead.\n",
            "  _log_warning(\"'early_stopping_rounds' argument is deprecated and will be removed in a future release of LightGBM. \"\n",
            "/usr/local/lib/python3.9/dist-packages/lightgbm/engine.py:239: UserWarning: 'verbose_eval' argument is deprecated and will be removed in a future release of LightGBM. Pass 'log_evaluation()' callback via 'callbacks' argument instead.\n",
            "  _log_warning(\"'verbose_eval' argument is deprecated and will be removed in a future release of LightGBM. \"\n"
          ]
        },
        {
          "name": "stdout",
          "output_type": "stream",
          "text": [
            "Training until validation scores don't improve for 100 rounds\n",
            "[500]\ttraining's auc: 0.894294\tvalid_1's auc: 0.88389\n",
            "[1000]\ttraining's auc: 0.915079\tvalid_1's auc: 0.897033\n",
            "[1500]\ttraining's auc: 0.928231\tvalid_1's auc: 0.903896\n",
            "[2000]\ttraining's auc: 0.938251\tvalid_1's auc: 0.90851\n",
            "Did not meet early stopping. Best iteration is:\n",
            "[2000]\ttraining's auc: 0.938251\tvalid_1's auc: 0.90851\n",
            "saving model\n"
          ]
        },
        {
          "data": {
            "text/plain": [
              "0"
            ]
          },
          "execution_count": 13,
          "metadata": {},
          "output_type": "execute_result"
        }
      ],
      "source": [
        "#user_rep_2\n",
        "train()"
      ]
    },
    {
      "cell_type": "code",
      "execution_count": null,
      "id": "afb1b72d-7f50-4dc8-a44c-95dcf9c537d2",
      "metadata": {
        "execution": {
          "iopub.execute_input": "2022-07-29T05:09:02.402717Z",
          "iopub.status.busy": "2022-07-29T05:09:02.402349Z",
          "iopub.status.idle": "2022-07-29T05:16:40.692960Z",
          "shell.execute_reply": "2022-07-29T05:16:40.691933Z",
          "shell.execute_reply.started": "2022-07-29T05:09:02.402690Z"
        },
        "id": "afb1b72d-7f50-4dc8-a44c-95dcf9c537d2",
        "outputId": "2069caa2-f757-42f2-a288-7efc96485354"
      },
      "outputs": [
        {
          "name": "stderr",
          "output_type": "stream",
          "text": [
            "/tmp/ipykernel_83/3086720290.py:50: FutureWarning: The frame.append method is deprecated and will be removed from pandas in a future version. Use pandas.concat instead.\n",
            "  df_train = df_train.append(list_train)\n",
            "/usr/local/lib/python3.9/dist-packages/lightgbm/engine.py:181: UserWarning: 'early_stopping_rounds' argument is deprecated and will be removed in a future release of LightGBM. Pass 'early_stopping()' callback via 'callbacks' argument instead.\n",
            "  _log_warning(\"'early_stopping_rounds' argument is deprecated and will be removed in a future release of LightGBM. \"\n",
            "/usr/local/lib/python3.9/dist-packages/lightgbm/engine.py:239: UserWarning: 'verbose_eval' argument is deprecated and will be removed in a future release of LightGBM. Pass 'log_evaluation()' callback via 'callbacks' argument instead.\n",
            "  _log_warning(\"'verbose_eval' argument is deprecated and will be removed in a future release of LightGBM. \"\n"
          ]
        },
        {
          "name": "stdout",
          "output_type": "stream",
          "text": [
            "Training until validation scores don't improve for 100 rounds\n",
            "[500]\ttraining's auc: 0.810789\tvalid_1's auc: 0.80533\n",
            "[1000]\ttraining's auc: 0.824969\tvalid_1's auc: 0.816032\n",
            "[1500]\ttraining's auc: 0.833422\tvalid_1's auc: 0.821315\n",
            "[2000]\ttraining's auc: 0.839791\tvalid_1's auc: 0.824699\n",
            "Did not meet early stopping. Best iteration is:\n",
            "[2000]\ttraining's auc: 0.839791\tvalid_1's auc: 0.824699\n"
          ]
        },
        {
          "data": {
            "text/plain": [
              "0"
            ]
          },
          "execution_count": 15,
          "metadata": {},
          "output_type": "execute_result"
        }
      ],
      "source": [
        "#user_rep_1\n",
        "train()"
      ]
    },
    {
      "cell_type": "markdown",
      "id": "2a4b63a5-56ee-4bd2-b7b8-2aebb5299b31",
      "metadata": {
        "id": "2a4b63a5-56ee-4bd2-b7b8-2aebb5299b31"
      },
      "source": [
        "We have now trained a light gbm model using user_representation_1() function as the user representation technique. The key goals for part B of this week's project are to implement user_representation_2(), where we represent the user as the average of embeddings of their recently purchased articles.\n"
      ]
    },
    {
      "cell_type": "markdown",
      "id": "4940f48d-08e5-4130-be2c-d15622012620",
      "metadata": {
        "id": "4940f48d-08e5-4130-be2c-d15622012620"
      },
      "source": [
        "Once you have implemented the function, please note to change the line:\n",
        "\n",
        "df_cust = user_representation_1()\n",
        "\n",
        "to the appropriate function name and run re-train the model. Please report the performance numbers with each of the two user representations.\n",
        "\n",
        "This should complete the week 3 project!"
      ]
    },
    {
      "cell_type": "markdown",
      "id": "ydLW7dPiuw-E",
      "metadata": {
        "id": "ydLW7dPiuw-E"
      },
      "source": [
        "### Optional task 1: training a Doc2Vec model\n",
        "\n",
        "If you want an extra challenge, you can try implementing Doc2vec representations in user_representation_3(). The Doc2vec model is an embedding learning method\n",
        "    that enables us to learn representations of a document.\n",
        "    We treat each user as a document, and the set of articles\n",
        "    the user has purchased as the set of words in the document."
      ]
    },
    {
      "cell_type": "code",
      "source": [
        "def user_representation_3(trans_df, vec_size=16):\n",
        "    \"\"\"\n",
        "    OPTIONAL -- compute user representations as the output\n",
        "    of the doc2vec model.\n",
        "    https://cs.stanford.edu/~quocle/paragraph_vector.pdf\n",
        "    Doc2vec model is an embedding learning method\n",
        "    that enables us to learn representations of a document.\n",
        "    We treat each user as a document, and the set of articles\n",
        "    the user has purchased as the set of words in the document.\n",
        "    \"\"\"\n",
        "    # This can be done using df_consumed_articles = df_trans.groupby(\"customer_id\", as_index=False).article_id.agg(list)\n",
        "    # and then by using Gensim's Doc2Vec implementation. However, tuning hyperparams would be complex\n",
        "    # and the construction of these user representations would once again consume a lot of RAM...\n",
        "\n",
        "    \n",
        "    cust_df = pd.read_csv(path+\"customers.csv.zip\",dtype=cust_dtypes)\n",
        "    cust_df = cust_df[[\"customer_id\"]]\n",
        "\n",
        "    cust_df = cust_df[0:500_000]  # NOTE: speed up run time. should be removed for proper runs\n",
        "    \n",
        "    # dataframe with col1: customer_id, col2: list of purchases from most recent to oldest\n",
        "    df = cust_df.merge(trans_df[[\"customer_id\", \"article_id\", \"t_dat\"]], on=[\"customer_id\"], how=\"left\").sort_values(by=\"t_dat\", ascending=False).drop([\"t_dat\"], axis=1).groupby([\"customer_id\"]).agg(tuple).applymap(list).reset_index()\n",
        "    \n",
        "    docs = []\n",
        "\n",
        "    # prepare documents for model\n",
        "    for _, row in df.iterrows():\n",
        "        # todo: consider adding a cap to max number of articles to store\n",
        "        doc = TaggedDocument(list(row[\"article_id\"]), [row[\"customer_id\"]])\n",
        "        docs.append(doc)\n",
        "    \n",
        "    doc2vec_model = Doc2Vec(docs, vector_size=vec_size, workers=6)\n",
        "    \n",
        "    # create dataframe with doc2vec vectors of each customer\n",
        "    cols = [\"customer_id\"] + [f\"emb_{x}\" for x in range(vec_size)]\n",
        "    out_df = pd.DataFrame(columns=cols)\n",
        "    \n",
        "    for _, row in df.iterrows():\n",
        "        # todo: check if possible to vectorize this operation since quite slow\n",
        "        ix = row[\"customer_id\"]\n",
        "        customer_representation = list(doc2vec_model.dv[ix])\n",
        "        customer_representation.insert(0, ix)\n",
        "        \n",
        "        out_df = out_df.append(pd.Series(customer_representation, index=cols), ignore_index=True)\n",
        "    \n",
        "    return out_df"
      ],
      "metadata": {
        "id": "tJ49uJvglShB"
      },
      "id": "tJ49uJvglShB",
      "execution_count": null,
      "outputs": []
    },
    {
      "cell_type": "markdown",
      "id": "ce141145-f5af-4f2d-9d94-f4bb50e6208f",
      "metadata": {
        "id": "ce141145-f5af-4f2d-9d94-f4bb50e6208f"
      },
      "source": [
        "### Optional task 2: training a sequential LSTM model\n",
        "\n",
        "Another optional task here would be to implement user_representation_4() where user representations are learnt by a sequential LSTM model. The LSTM model will need to be trained on a task -- the task itself could be the downstream task of predicting whether or not a user would purchase a given article given a sequence of previous articles. The final hidden layer of the lstm model can be used as the user representation."
      ]
    },
    {
      "cell_type": "code",
      "execution_count": null,
      "id": "88eb3b58-062c-4c96-b3f0-2db4407ce1b3",
      "metadata": {
        "id": "88eb3b58-062c-4c96-b3f0-2db4407ce1b3"
      },
      "outputs": [],
      "source": [
        ""
      ]
    }
  ],
  "metadata": {
    "accelerator": "TPU",
    "colab": {
      "collapsed_sections": [],
      "machine_shape": "hm",
      "name": "week3_ann_user_representations_doc2vec.ipynb",
      "provenance": [],
      "include_colab_link": true
    },
    "environment": {
      "kernel": "python3",
      "name": "tf2-gpu.2-6.m89",
      "type": "gcloud",
      "uri": "gcr.io/deeplearning-platform-release/tf2-gpu.2-6:m89"
    },
    "gpuClass": "standard",
    "kernelspec": {
      "display_name": "Python 3 (ipykernel)",
      "language": "python",
      "name": "python3"
    },
    "language_info": {
      "codemirror_mode": {
        "name": "ipython",
        "version": 3
      },
      "file_extension": ".py",
      "mimetype": "text/x-python",
      "name": "python",
      "nbconvert_exporter": "python",
      "pygments_lexer": "ipython3",
      "version": "3.9.13"
    }
  },
  "nbformat": 4,
  "nbformat_minor": 5
}